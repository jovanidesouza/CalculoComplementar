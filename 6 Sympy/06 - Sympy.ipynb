{
  "nbformat": 4,
  "nbformat_minor": 0,
  "metadata": {
    "kernelspec": {
      "display_name": "Python 3",
      "language": "python",
      "name": "python3"
    },
    "language_info": {
      "codemirror_mode": {
        "name": "ipython",
        "version": 3
      },
      "file_extension": ".py",
      "mimetype": "text/x-python",
      "name": "python",
      "nbconvert_exporter": "python",
      "pygments_lexer": "ipython3",
      "version": "3.7.3"
    },
    "colab": {
      "name": "06 - Sympy.ipynb",
      "provenance": []
    }
  },
  "cells": [
    {
      "cell_type": "markdown",
      "metadata": {
        "id": "BfQXcpXAZbiH",
        "colab_type": "text"
      },
      "source": [
        "Usando frações"
      ]
    },
    {
      "cell_type": "code",
      "metadata": {
        "id": "ChqJM9RaWynq",
        "colab_type": "code",
        "colab": {
          "base_uri": "https://localhost:8080/",
          "height": 34
        },
        "outputId": "5c956c13-7e45-48d1-a9be-2c642395630d"
      },
      "source": [
        "from sympy import *\n",
        "\n",
        "#primeiro número dividido pelo segundo\n",
        "a = Rational(2,4)\n",
        "print(a)\n"
      ],
      "execution_count": 11,
      "outputs": [
        {
          "output_type": "stream",
          "text": [
            "1/2\n"
          ],
          "name": "stdout"
        }
      ]
    },
    {
      "cell_type": "markdown",
      "metadata": {
        "id": "Xpwdaw4BaRMB",
        "colab_type": "text"
      },
      "source": [
        "Fazendo Limites\n"
      ]
    },
    {
      "cell_type": "code",
      "metadata": {
        "id": "QGxU2CqUaUpS",
        "colab_type": "code",
        "colab": {
          "base_uri": "https://localhost:8080/",
          "height": 34
        },
        "outputId": "c06ed836-fadc-47df-8743-c565578e726f"
      },
      "source": [
        "from sympy import *\n",
        "\n",
        "x=Symbol(\"x\")\n",
        "limit(sin(x)/x, x, 0)"
      ],
      "execution_count": 12,
      "outputs": [
        {
          "output_type": "execute_result",
          "data": {
            "text/plain": [
              "1"
            ]
          },
          "metadata": {
            "tags": []
          },
          "execution_count": 12
        }
      ]
    },
    {
      "cell_type": "markdown",
      "metadata": {
        "id": "kEPCH40KZaEX",
        "colab_type": "text"
      },
      "source": [
        "Fazendo derivadas"
      ]
    },
    {
      "cell_type": "code",
      "metadata": {
        "id": "YC4_IjppYV8V",
        "colab_type": "code",
        "colab": {
          "base_uri": "https://localhost:8080/",
          "height": 34
        },
        "outputId": "d95acd1e-afdc-4d72-9517-b3be8d7d16bf"
      },
      "source": [
        "from sympy import *\n",
        "\n",
        "x = Symbol('x')\n",
        "diff(sin(x), x)\n"
      ],
      "execution_count": 13,
      "outputs": [
        {
          "output_type": "execute_result",
          "data": {
            "text/plain": [
              "cos(x)"
            ]
          },
          "metadata": {
            "tags": []
          },
          "execution_count": 13
        }
      ]
    },
    {
      "cell_type": "markdown",
      "metadata": {
        "id": "86G90C2hZYzg",
        "colab_type": "text"
      },
      "source": [
        "Fazendo Integrais"
      ]
    },
    {
      "cell_type": "code",
      "metadata": {
        "id": "ksCMaoQWZsgJ",
        "colab_type": "code",
        "colab": {
          "base_uri": "https://localhost:8080/",
          "height": 34
        },
        "outputId": "11f51b65-3730-4209-d381-3cec2aa1be56"
      },
      "source": [
        "from sympy import *\n",
        "\n",
        "x, y = symbols('x,y')\n",
        "integrate(6*x**5, x)\n"
      ],
      "execution_count": 14,
      "outputs": [
        {
          "output_type": "execute_result",
          "data": {
            "text/plain": [
              "x**6"
            ]
          },
          "metadata": {
            "tags": []
          },
          "execution_count": 14
        }
      ]
    }
  ]
}