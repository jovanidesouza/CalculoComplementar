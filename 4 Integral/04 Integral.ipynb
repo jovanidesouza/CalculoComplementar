{
  "nbformat": 4,
  "nbformat_minor": 0,
  "metadata": {
    "kernelspec": {
      "display_name": "Python 3",
      "language": "python",
      "name": "python3"
    },
    "language_info": {
      "codemirror_mode": {
        "name": "ipython",
        "version": 3
      },
      "file_extension": ".py",
      "mimetype": "text/x-python",
      "name": "python",
      "nbconvert_exporter": "python",
      "pygments_lexer": "ipython3",
      "version": "3.7.3"
    },
    "colab": {
      "name": "4 -Integral.ipynb",
      "provenance": []
    }
  },
  "cells": [
    {
      "cell_type": "markdown",
      "metadata": {
        "id": "SHZ6rpGzigq9",
        "colab_type": "text"
      },
      "source": [
        "# Integral Definida\n",
        "\n",
        " <img src='IntegralDefinida.png' /></a>"
      ]
    },
    {
      "cell_type": "markdown",
      "metadata": {
        "id": "FC5ZL-n7igq-",
        "colab_type": "text"
      },
      "source": [
        "## Área Abaixo da Curva"
      ]
    },
    {
      "cell_type": "code",
      "metadata": {
        "id": "U8GWZb34igq_",
        "colab_type": "code",
        "colab": {}
      },
      "source": [
        "import numpy as np\n",
        "import pylab as plt"
      ],
      "execution_count": 0,
      "outputs": []
    },
    {
      "cell_type": "code",
      "metadata": {
        "id": "dGe7Vk1ZigrC",
        "colab_type": "code",
        "colab": {}
      },
      "source": [
        "x=np.linspace(0,10,21)\n",
        "y=x**2-5*x+6"
      ],
      "execution_count": 0,
      "outputs": []
    },
    {
      "cell_type": "code",
      "metadata": {
        "id": "6sriSy3IigrD",
        "colab_type": "code",
        "outputId": "a0c2a7ba-5074-4a99-de61-39832ca481d6",
        "colab": {
          "base_uri": "https://localhost:8080/",
          "height": 295
        }
      },
      "source": [
        "fig, axes = plt.subplots(1,2, figsize=(12, 4))\n",
        "\n",
        "axes[0].plot(x, y)\n",
        "axes[0].set_xlabel('X')\n",
        "axes[0].set_ylabel('F(X)')\n",
        "axes[0].set_title(\"Função Quadrática\")\n",
        "\n",
        "axes[1].fill_between(x,y)\n",
        "axes[1].set_xlabel('X')\n",
        "axes[1].set_ylabel('F(X)')\n",
        "axes[1].set_title(\"Área Abaixo da Curva\")\n",
        "\n",
        "plt.show()"
      ],
      "execution_count": 0,
      "outputs": [
        {
          "output_type": "display_data",
          "data": {
            "image/png": "[encoded data removed]",
            "text/plain": [
              "<Figure size 864x288 with 2 Axes>"
            ]
          },
          "metadata": {
            "tags": []
          }
        }
      ]
    },
    {
      "cell_type": "markdown",
      "metadata": {
        "id": "op9bRnzoigrG",
        "colab_type": "text"
      },
      "source": [
        "# Ordem de aproximação\n",
        "## Regras de Newton-Cotes\n",
        "\n",
        "As regras abaixo são conhecidas como Fórmulas de Newton-Cotes, há dois tipos delas as abertas e as fechadas. A regra do ponto médio é uma fórmula de Newton-Cotes aberta. A regra trapezoidal e de Simpson são exemplos de uma categoria de métodos conhecida como fórmulas de Newton-Cotes fechada. A fórmula de Newton-Cotes é chamada fechada quando o conjunto de seus pontos incluem os extremos do intervalo de integração.\n",
        "\n",
        " <img src='Newton-Cotes.png'>\n",
        "\n",
        " <img src='Newton-Cotes1.png'>\n",
        "\n",
        " "
      ]
    },
    {
      "cell_type": "markdown",
      "metadata": {
        "id": "8a7v22l1igrG",
        "colab_type": "text"
      },
      "source": [
        "### Exemplo: Método Trapezoidal"
      ]
    },
    {
      "cell_type": "code",
      "metadata": {
        "id": "a6pFJZBSigrH",
        "colab_type": "code",
        "outputId": "1cf16d94-dfb9-4105-bcb8-75e4e0783341",
        "colab": {
          "base_uri": "https://localhost:8080/",
          "height": 34
        }
      },
      "source": [
        "def y(x):                #Função a ser integrada\n",
        "    return x**2-5*x+6\n",
        "\n",
        "N = 10                    #número de pontos, Aumentar aqui faz aumentar a precisão do resultado (que exato é 143,333..)\n",
        "a=0.0                     #ponto inicial\n",
        "b=10.0                    #ponto final \n",
        "h=(b-a)/N                 #intervalo infinitesimal  \n",
        "\n",
        "constante = 0.5*(y(a)+y(b))\n",
        "soma=0\n",
        "for k in range(1,N):\n",
        "    soma +=y(a+k*h)\n",
        "\n",
        "I = h*(constante+soma)\n",
        "\n",
        "print (I)"
      ],
      "execution_count": 6,
      "outputs": [
        {
          "output_type": "stream",
          "text": [
            "143.33350000000002\n"
          ],
          "name": "stdout"
        }
      ]
    },
    {
      "cell_type": "markdown",
      "metadata": {
        "colab_type": "text",
        "id": "i-6TBdY8xw20"
      },
      "source": [
        "### Tarefa 1 - Implementar usando o método np.trapz()\n",
        "\n",
        "\n",
        "\n"
      ]
    },
    {
      "cell_type": "code",
      "metadata": {
        "id": "lvCVCw0-xrT7",
        "colab_type": "code",
        "colab": {
          "base_uri": "https://localhost:8080/",
          "height": 34
        },
        "outputId": "76a6da5c-1d2e-4a5a-95d7-c89217f6bf2f"
      },
      "source": [
        "import numpy as np\n",
        "\n",
        "N = 10000\n",
        "a = 0.0\n",
        "b = 10.0\n",
        "h = (b-a)/N \n",
        "\n",
        "x = np.linspace(a,b,N)\n",
        "y = x**2-5*x+6\n",
        "\n",
        "resultado = np.trapz(y, dx=h)\n",
        "\n",
        "print(resultado)\n"
      ],
      "execution_count": 24,
      "outputs": [
        {
          "output_type": "stream",
          "text": [
            "143.31900166683334\n"
          ],
          "name": "stdout"
        }
      ]
    },
    {
      "cell_type": "markdown",
      "metadata": {
        "id": "bORUqZH3igrJ",
        "colab_type": "text"
      },
      "source": [
        "### Tarefa 2 - Queda Livre\n",
        "Um corpo é abandonado de certa altura e atinge o solo após um determinado tempo. Utilize o arquivo \"Queda_livre.csv\", que apresenta a aceleração resultante do corpo em função do tempo de queda, e calcule o valor final da velocidade atingida pelo corpo.\n",
        "\n",
        "#### Calcule o valor final da velocidade atingida pelo corpo."
      ]
    },
    {
      "cell_type": "code",
      "metadata": {
        "id": "7j2Wq-YYigrK",
        "colab_type": "code",
        "colab": {}
      },
      "source": [
        "import csv\n",
        "\n",
        "import numpy as np\n",
        "import pylab as plt\n",
        "\n",
        "# tempo, aceleracao\n",
        "\n",
        "Data = []\n",
        "\n",
        "with open('Queda-livre.csv','r') as entrada:\n",
        "    ler = csv.reader(entrada)\n",
        "    next(ler)\n",
        "\n",
        "    for linha in ler:\n",
        "        for i in range(len(linha)):\n",
        "            linha[i] = float(linha[i])\n",
        "        Data.append(linha)\n",
        "\n",
        "\n",
        "\n",
        "tempo = []\n",
        "aceleracao = []\n",
        "\n",
        "for i in Data:\n",
        "\n",
        "    t, a = i\n",
        "    tempo.append(t)\n",
        "    aceleracao.append(a)\n",
        "\n",
        "N = len(tempo)\n",
        "a = tempo[0]\n",
        "b = tempo[N-1]\n",
        "h = (b-a)/N\n",
        "\n",
        "\n",
        "velocidade = np.empty(N)\n",
        "velocidade[0] = 0\n",
        "\n",
        "for k in range(1,N):\n",
        "    velocidade[k] = velocidade[k-1]+(aceleracao[k-1]+aceleracao[k])*(h/2)\n",
        "\n",
        "print(velocidade[k])"
      ],
      "execution_count": 0,
      "outputs": []
    },
    {
      "cell_type": "markdown",
      "metadata": {
        "id": "Dp5NUYOoigrL",
        "colab_type": "text"
      },
      "source": [
        "### Tarefa 3 - Distância percorrida\n",
        "\n",
        "Escrever um programa em Python que lê o arquivo **velocities.txt**, e usando a regra trapezoidal, calcula a distância percorrida pela partícula no eixo x como função do tempo e plote, no mesmo gráfico da velocidade em função do tempo, a distância percorrida. Mais informações: http://www-personal.umich.edu/~mejn/computational-physics/\n",
        "\n",
        "Conjunto de dados que contém duas colunas numéricas, onde na primeira está o tempo, em segundos, e na segunda a velocidade no eixo x, em metros por segundos, de uma partícula.\n",
        "\n",
        " <img src='Figure-1.png' /></a>"
      ]
    },
    {
      "cell_type": "markdown",
      "metadata": {
        "id": "2MbZCUs8igrM",
        "colab_type": "text"
      },
      "source": [
        "### Usando o Numpy - Regra Trapezoidal\n",
        "\n",
        "\n"
      ]
    },
    {
      "cell_type": "code",
      "metadata": {
        "id": "lnEoDopzigrM",
        "colab_type": "code",
        "outputId": "71cc02f0-46ca-420f-a5cc-eb76b55b305f",
        "colab": {}
      },
      "source": [
        "import numpy as np\n",
        "\n",
        "tempo,velocidade = np.loadtxt('velocities.txt',unpack=True)\n",
        "\n",
        "N = len(tempo)\n",
        "a = tempo[0]\n",
        "b = tempo[N-1]\n",
        "h = (b-a)/N\n",
        "\n",
        "#USANDO NUMPY\n",
        "distancia2=np.trapz(velocidade,dx=h)\n",
        "print(distancia2)"
      ],
      "execution_count": 0,
      "outputs": [
        {
          "output_type": "stream",
          "text": [
            "8.137548514851487\n"
          ],
          "name": "stdout"
        }
      ]
    },
    {
      "cell_type": "markdown",
      "metadata": {
        "id": "IzmBmuidigrO",
        "colab_type": "text"
      },
      "source": [
        "### Usando o Scipy - Regra de Simpson"
      ]
    },
    {
      "cell_type": "code",
      "metadata": {
        "id": "Zmu881sfigrO",
        "colab_type": "code",
        "outputId": "727e60ce-096e-471b-ce70-43ee50a75e9c",
        "colab": {
          "base_uri": "https://localhost:8080/",
          "height": 34
        }
      },
      "source": [
        "from scipy import integrate\n",
        "import numpy as np\n",
        "\n",
        "x = np.linspace(0,10,11)\n",
        "y=x**2-5*x+6\n",
        "\n",
        "N = 10\n",
        "a = 0\n",
        "b = 10\n",
        "h = (b-a)/N\n",
        "\n",
        "I2 = integrate.simps(y,dx=h) \n",
        "\n",
        "print(I2)"
      ],
      "execution_count": 31,
      "outputs": [
        {
          "output_type": "stream",
          "text": [
            "143.33333333333331\n"
          ],
          "name": "stdout"
        }
      ]
    }
  ]
}