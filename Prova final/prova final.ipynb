{
  "nbformat": 4,
  "nbformat_minor": 0,
  "metadata": {
    "colab": {
      "name": "Untitled4.ipynb",
      "provenance": []
    },
    "kernelspec": {
      "name": "python3",
      "display_name": "Python 3"
    }
  },
  "cells": [
    {
      "cell_type": "markdown",
      "metadata": {
        "id": "bR3FVWPTOx1S",
        "colab_type": "text"
      },
      "source": [
        "PROVA DE CÁLCULO COMPLEMENTAR\n",
        "\n",
        "JOVANI DE SOUZA\n",
        "\n",
        "MATRÍCULA: 1311100017"
      ]
    },
    {
      "cell_type": "markdown",
      "metadata": {
        "id": "NPeXJHOXOvA-",
        "colab_type": "text"
      },
      "source": [
        "Problema 01: \n",
        "\n",
        "Estima-se que a produção semanal de uma fábrica é dada pela função:\n",
        "\n",
        "f(x,y) = 1200x+ 500y+ x^2y – x^3 – y^2\n",
        "\n",
        "unidades, onde x é o número de operários especializados e y o número de operários não especializados utilizados no trabalho. No momento, a mão de obra disponível é constituída por 30 operários especializados e 60 operários não especializados. Use a análise marginal para estimar a variação da produção se mais 1 operário especializado for contratado e o número de operários não especializado permanecer constante.\n",
        "\n",
        "\n",
        "\n"
      ]
    },
    {
      "cell_type": "code",
      "metadata": {
        "id": "-1p0azG1Or-g",
        "colab_type": "code",
        "colab": {
          "base_uri": "https://localhost:8080/",
          "height": 34
        },
        "outputId": "1c1e3b38-12ad-42b3-b96b-943d2f9514b6"
      },
      "source": [
        "import numpy as np\n",
        "\n",
        "# função expressada em f\n",
        "f = lambda x: 1200*x + 500*60 + (x**2)*60 - x**3 - 60**2\n",
        "\n",
        "#função que calcula a derivada parcial em relação á variaável x (Operários especializados)\n",
        "def derivada_parcial(f, a, h=0.01):\n",
        "  return (f(a+h)-f(a-h))/(2*h)\n",
        "\n",
        "derivada_parcial(f, 30)\n",
        "\n",
        "#Calculando manualmente a resposta foi: 2100"
      ],
      "execution_count": 5,
      "outputs": [
        {
          "output_type": "execute_result",
          "data": {
            "text/plain": [
              "2099.999899999966"
            ]
          },
          "metadata": {
            "tags": []
          },
          "execution_count": 5
        }
      ]
    },
    {
      "cell_type": "markdown",
      "metadata": {
        "id": "eq2EVrRdQ-o0",
        "colab_type": "text"
      },
      "source": [
        "Problema 02: \n",
        "\n",
        "Um empresário calcula que, quando xUnidades de um certo produto são fabricadas, o lucro é dado por f(x) = - 400x2+ 6.800x-12.000 reais. Qual é a taxa de variação do lucro em relação ao nível de produção x quando estão sendo produzidas 9.000 unidades?"
      ]
    },
    {
      "cell_type": "code",
      "metadata": {
        "id": "noFlfwKkRiST",
        "colab_type": "code",
        "colab": {
          "base_uri": "https://localhost:8080/",
          "height": 51
        },
        "outputId": "3a1f5991-439c-415e-8784-add841ee2660"
      },
      "source": [
        "import numpy as np\n",
        "\n",
        "#função expressada em y\n",
        "y = lambda x: -400*(x**2)+ 6800*x-12000\n",
        "\n",
        "\n",
        "def derivada(f, a, h=0.01):\n",
        "  return (f(a+h)-f(a-h))/(2*h)\n",
        "\n",
        "#calculando a derivada manualmente a resposta foi exatamente a mesma: -7 193 200\n",
        "\n",
        "print(\"Calculado um prejuízo de:\")\n",
        "\n",
        "derivada(y, 9000)\n",
        "\n"
      ],
      "execution_count": 8,
      "outputs": [
        {
          "output_type": "stream",
          "text": [
            "Calculado um prejuízo de:\n"
          ],
          "name": "stdout"
        },
        {
          "output_type": "execute_result",
          "data": {
            "text/plain": [
              "-7193200.0"
            ]
          },
          "metadata": {
            "tags": []
          },
          "execution_count": 8
        }
      ]
    },
    {
      "cell_type": "markdown",
      "metadata": {
        "id": "k4ZonFpKS28G",
        "colab_type": "text"
      },
      "source": [
        "Problema 03: \n",
        "\n",
        "ÁREA SUPERFICIAL DO CORPO HUMANO É dada pela expressão empírica S(W, H) = 0,0072(W^0,425) (H^0,725) , onde W (Kg) e H(cm), são, respectivamente, peso e a altura da pessoa. No momento, uma certa criança pesa 34Kg e tem 1m e 20cm de altura.\n",
        "\n",
        "Determine os dados do problema.\n",
        "\n",
        "Calcule as derivadas parciais Sw(50,163) e SH(50, 163) e interprete-as como taxas de variação.\n",
        "\n",
        "Estime qual será a variação da área superficial se a criança engordar 1 Kg e altura permanecer inalterada. "
      ]
    },
    {
      "cell_type": "code",
      "metadata": {
        "id": "mZ3pSmhcTBXe",
        "colab_type": "code",
        "colab": {
          "base_uri": "https://localhost:8080/",
          "height": 68
        },
        "outputId": "8d88141e-be63-4afd-bdc5-127bd63c493b"
      },
      "source": [
        "import numpy as np\n",
        "\n",
        "#expressão das funções parciais\n",
        "sw = lambda x:  0.0072 * (x**0.425) * (163**0.725) \n",
        "sh = lambda x:  0.0072 * (50**0.425) * (x**0.725) \n",
        "\n",
        "#função que calcula a derivadas para as duas variáveis\n",
        "def derivada_central(funcao, a, h=0.01):\n",
        "    return (f(a+h)-f(a-h))/(2*h)\n",
        "\n",
        "#derivada em relação a sw\n",
        "print('Variação em relação a variável peso: '+str(derivada_central(sw, 50)))\n",
        "\n",
        "#derivada em relação a sh\n",
        "print('Variação em relação a variaǘel altura: '+str(derivada_central(sh, 163)))\n",
        "\n",
        "print(\"Para a resposta final utiliza-se apenas a variação do peso já que a altura permanece inalterada\")\n",
        "\n"
      ],
      "execution_count": 13,
      "outputs": [
        {
          "output_type": "stream",
          "text": [
            "Variação em relação a variável peso: -300.00009999930626\n",
            "Variação em relação a variaǘel altura: -58947.0000999514\n",
            "Para a resposta final utiliza-se apenas a variação do peso já que a altura permanece inalterada\n"
          ],
          "name": "stdout"
        }
      ]
    }
  ]
}