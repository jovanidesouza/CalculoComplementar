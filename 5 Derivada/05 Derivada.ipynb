{
  "nbformat": 4,
  "nbformat_minor": 0,
  "metadata": {
    "kernelspec": {
      "display_name": "Python 3",
      "language": "python",
      "name": "python3"
    },
    "language_info": {
      "codemirror_mode": {
        "name": "ipython",
        "version": 3
      },
      "file_extension": ".py",
      "mimetype": "text/x-python",
      "name": "python",
      "nbconvert_exporter": "python",
      "pygments_lexer": "ipython3",
      "version": "3.7.3"
    },
    "colab": {
      "name": "41-Derivada.ipynb",
      "provenance": []
    }
  },
  "cells": [
    {
      "cell_type": "markdown",
      "metadata": {
        "id": "c26-WC4_SWxN",
        "colab_type": "text"
      },
      "source": [
        "# Derivada\n",
        "\n",
        "A derivada de uma função y = f(x) em um ponto x = x0, é igual ao valor da tangente trigonométrica do ângulo formado pela tangente geométrica à curva representativa de y=f(x), no ponto x = x0, ou seja, a derivada é o coeficiente angular da reta tangente ao gráfico da função no ponto x0.\n",
        "\n",
        "## Método *Forward* e *backward*\n",
        "\n",
        " <img src='Derivada_AvancarRetroceder.png' /></a>"
      ]
    },
    {
      "cell_type": "code",
      "metadata": {
        "id": "ja_91MfiSWxP",
        "colab_type": "code",
        "colab": {}
      },
      "source": [
        "import numpy as np\n",
        "import pylab as plt"
      ],
      "execution_count": 0,
      "outputs": []
    },
    {
      "cell_type": "markdown",
      "metadata": {
        "id": "iokSd9OKSWxR",
        "colab_type": "text"
      },
      "source": [
        "### Exemplo:    $y = x^2 - 5x + 6$  "
      ]
    },
    {
      "cell_type": "code",
      "metadata": {
        "id": "g2v7x7OZSWxS",
        "colab_type": "code",
        "colab": {}
      },
      "source": [
        "y = lambda x: x**2 - 5*x + 6"
      ],
      "execution_count": 0,
      "outputs": []
    },
    {
      "cell_type": "code",
      "metadata": {
        "id": "rs8rOt0dSWxU",
        "colab_type": "code",
        "colab": {}
      },
      "source": [
        "#Método Avancar\n",
        "\n",
        "def derivada_avancar(funcao, a, h=0.01):\n",
        "    return (funcao(a+h)-funcao(a))/h"
      ],
      "execution_count": 0,
      "outputs": []
    },
    {
      "cell_type": "code",
      "metadata": {
        "id": "U5cx02uySWxV",
        "colab_type": "code",
        "colab": {
          "base_uri": "https://localhost:8080/",
          "height": 34
        },
        "outputId": "6cf54148-7ceb-4032-df29-ddcac014fa6b"
      },
      "source": [
        "derivada_avancar(y,0)"
      ],
      "execution_count": 8,
      "outputs": [
        {
          "output_type": "execute_result",
          "data": {
            "text/plain": [
              "-4.9900000000000055"
            ]
          },
          "metadata": {
            "tags": []
          },
          "execution_count": 8
        }
      ]
    },
    {
      "cell_type": "code",
      "metadata": {
        "id": "xXW7juvzSWxY",
        "colab_type": "code",
        "colab": {}
      },
      "source": [
        "#Método Retroceder\n",
        "\n",
        "def derivada_retroceder(funcao, a, h=0.01):\n",
        "    return (funcao(a)-funcao(a-h))/h"
      ],
      "execution_count": 0,
      "outputs": []
    },
    {
      "cell_type": "code",
      "metadata": {
        "id": "uFNySUZoSWxa",
        "colab_type": "code",
        "colab": {
          "base_uri": "https://localhost:8080/",
          "height": 34
        },
        "outputId": "75c84e19-8523-4780-e962-af1ee52bb1dc"
      },
      "source": [
        "derivada_retroceder(y,0)"
      ],
      "execution_count": 10,
      "outputs": [
        {
          "output_type": "execute_result",
          "data": {
            "text/plain": [
              "-5.009999999999959"
            ]
          },
          "metadata": {
            "tags": []
          },
          "execution_count": 10
        }
      ]
    },
    {
      "cell_type": "markdown",
      "metadata": {
        "id": "0o-uk6WFSWxc",
        "colab_type": "text"
      },
      "source": [
        "## Método Central\n",
        "\n",
        " <img src='Derivada_Central.png' /></a>"
      ]
    },
    {
      "cell_type": "code",
      "metadata": {
        "id": "0XQMC835SWxd",
        "colab_type": "code",
        "colab": {}
      },
      "source": [
        "#Método Central\n",
        "\n",
        "def derivada_central(funcao, a, h=0.01):\n",
        "    return (funcao(a+h)-funcao(a-h))/(2*h)"
      ],
      "execution_count": 0,
      "outputs": []
    },
    {
      "cell_type": "code",
      "metadata": {
        "id": "UtM6oNR1SWxe",
        "colab_type": "code",
        "colab": {
          "base_uri": "https://localhost:8080/",
          "height": 34
        },
        "outputId": "6542b4d4-b270-40d7-9b8a-9a0704987437"
      },
      "source": [
        "derivada_central(y,0)"
      ],
      "execution_count": 12,
      "outputs": [
        {
          "output_type": "execute_result",
          "data": {
            "text/plain": [
              "-4.999999999999982"
            ]
          },
          "metadata": {
            "tags": []
          },
          "execution_count": 12
        }
      ]
    },
    {
      "cell_type": "markdown",
      "metadata": {
        "id": "-cQC9EEwSWxg",
        "colab_type": "text"
      },
      "source": [
        "## Gráfico da deriva da função $y = x^2 - 5x + 6$ : \n",
        "## $y ' = 2x - 5$  "
      ]
    },
    {
      "cell_type": "code",
      "metadata": {
        "id": "dcZD0Co8SWxg",
        "colab_type": "code",
        "colab": {
          "base_uri": "https://localhost:8080/",
          "height": 281
        },
        "outputId": "6d71dea9-ccfe-4f46-c34d-b34a4ffe88dc"
      },
      "source": [
        "dy=np.empty(10)\n",
        "\n",
        "for i in range(0,10):\n",
        "    dy[i]=derivada_central(y,i)\n",
        "    plt.plot(i,dy[i],'ro')\n",
        "\n",
        "plt.title(\"y' = 2x - 5\")\n",
        "plt.show()\n"
      ],
      "execution_count": 13,
      "outputs": [
        {
          "output_type": "display_data",
          "data": {
            "image/png": "[encoded data removed]",
            "text/plain": [
              "<Figure size 432x288 with 1 Axes>"
            ]
          },
          "metadata": {
            "tags": []
          }
        }
      ]
    },
    {
      "cell_type": "markdown",
      "metadata": {
        "id": "cW_gLcO8SWxi",
        "colab_type": "text"
      },
      "source": [
        "## Derivada de dados\n",
        "\n",
        "Um exemplo típico é a função velocidade que representa a taxa de variação (derivada) da função espaço. Do mesmo modo, a função aceleração é a derivada da função velocidade."
      ]
    },
    {
      "cell_type": "code",
      "metadata": {
        "id": "9zYHQco0SWxi",
        "colab_type": "code",
        "colab": {}
      },
      "source": [
        "import numpy as np\n",
        "import pylab as plt\n",
        "\n",
        "tempo,velocidade = np.loadtxt('velocities.txt',unpack=True)\n",
        "\n",
        "#aceleração = d(velocidade)/dt\n",
        "\n",
        "N = len(tempo)\n",
        "aceleracao = np.empty(N)\n",
        "\n",
        "# Métdodo Avançar\n",
        "aceleracao[0] = (velocidade[1]-velocidade[0])/(tempo[1]-tempo[0])\n",
        "\n",
        "# Método Central\n",
        "for i in range (1,N-1):\n",
        "    aceleracao[i] = (velocidade[i+1]-velocidade[i-1])/((tempo[i+1]-tempo[i-1])*2)\n",
        "\n",
        "# Método Retroceder\n",
        "aceleracao[N-1] = (velocidade[N-1]-velocidade[N-2])/(tempo[N-1]-tempo[N-2])"
      ],
      "execution_count": 0,
      "outputs": []
    },
    {
      "cell_type": "markdown",
      "metadata": {
        "id": "IDSFV1IVSWxk",
        "colab_type": "text"
      },
      "source": [
        "## Gráfico dos dados"
      ]
    },
    {
      "cell_type": "code",
      "metadata": {
        "id": "xU3v_O-0SWxl",
        "colab_type": "code",
        "colab": {}
      },
      "source": [
        "plt.plot(tempo, velocidade, label = 'velocidade')\n",
        "plt.plot(tempo, aceleracao, label = 'aceleracao')\n",
        "plt.legend()\n",
        "plt.show()"
      ],
      "execution_count": 0,
      "outputs": []
    },
    {
      "cell_type": "markdown",
      "metadata": {
        "id": "3eMRgpZsSWxn",
        "colab_type": "text"
      },
      "source": [
        "## Derivada de Segunda Ordem\n",
        "\n",
        "A derivada de segunda ordem de uma função é simplesmente a derivada da derivada da função.\n",
        "\n",
        " <img src='Derivada_Segunda.png' /></a>\n"
      ]
    },
    {
      "cell_type": "code",
      "metadata": {
        "id": "sN637Un8SWxn",
        "colab_type": "code",
        "colab": {}
      },
      "source": [
        "# Derivada de Segunda Ordem\n",
        "\n",
        "def derivada_segunda(funcao, a, h=0.01):\n",
        "    return (funcao(a+h)-2*funcao(a)+funcao(a-h))/(h**2)"
      ],
      "execution_count": 0,
      "outputs": []
    },
    {
      "cell_type": "markdown",
      "metadata": {
        "id": "pSE5IlEGSWxp",
        "colab_type": "text"
      },
      "source": [
        "### Deriva de Segunda ordem da função $y = x^2 - 5x + 6$ : \n",
        "### $y ' = 2x - 5$\n",
        "### $y'' = 2$"
      ]
    },
    {
      "cell_type": "code",
      "metadata": {
        "id": "Q5pxbP68SWxp",
        "colab_type": "code",
        "colab": {
          "base_uri": "https://localhost:8080/",
          "height": 34
        },
        "outputId": "2cf296b9-de69-4779-d971-5aee3dc5fc8f"
      },
      "source": [
        "print(derivada_segunda(y,0))"
      ],
      "execution_count": 18,
      "outputs": [
        {
          "output_type": "stream",
          "text": [
            "1.9999999999953388\n"
          ],
          "name": "stdout"
        }
      ]
    },
    {
      "cell_type": "markdown",
      "metadata": {
        "id": "9jBPbAVKSWxr",
        "colab_type": "text"
      },
      "source": [
        "## Derivada Parcial\n",
        "\n",
        "Uma derivada parcial de uma função de várias variáveis é a sua derivada com respeito a uma daquelas variáveis, com as outras variáveis mantidas constantes. \n",
        "\n",
        " <img src='Derivada_parcial1.png' /></a>\n"
      ]
    },
    {
      "cell_type": "code",
      "metadata": {
        "id": "4no1WthlSWxs",
        "colab_type": "code",
        "colab": {}
      },
      "source": [
        "# Derivada Parcial\n",
        "\n",
        "def derivada_parcial(funcao,x,y, h=0.01):\n",
        "    return (funcao(x+h/2,y+h/2)-f(x-h/2,y+h/2)-f(x+h/2,y-h/2)+f(x-h/2,y-h/2))/(h**2)"
      ],
      "execution_count": 0,
      "outputs": []
    },
    {
      "cell_type": "markdown",
      "metadata": {
        "id": "s2O8wE0SSWxt",
        "colab_type": "text"
      },
      "source": [
        "### Exemplo:\n",
        "\n",
        "### $f(x,y) = x * sen(y) $"
      ]
    },
    {
      "cell_type": "code",
      "metadata": {
        "id": "IuCF1E9vSWxu",
        "colab_type": "code",
        "colab": {}
      },
      "source": [
        "f = lambda x,y: x*np.sin(y)"
      ],
      "execution_count": 0,
      "outputs": []
    },
    {
      "cell_type": "code",
      "metadata": {
        "id": "9DudUcABSWxv",
        "colab_type": "code",
        "colab": {
          "base_uri": "https://localhost:8080/",
          "height": 34
        },
        "outputId": "bb8e463b-391f-470c-8440-5364d176c94c"
      },
      "source": [
        "# Derivada com relação a y: x.cos*y)\n",
        "# Derivada com relação a x: sen(y)\n",
        "\n",
        "d_parcial = derivada_parcial(f,20,np.pi/4)\n",
        "\n",
        "print(d_parcial)"
      ],
      "execution_count": 22,
      "outputs": [
        {
          "output_type": "stream",
          "text": [
            "0.7071038349337755\n"
          ],
          "name": "stdout"
        }
      ]
    },
    {
      "cell_type": "code",
      "metadata": {
        "id": "gS4LwspkSWxy",
        "colab_type": "code",
        "colab": {}
      },
      "source": [
        ""
      ],
      "execution_count": 0,
      "outputs": []
    }
  ]
}